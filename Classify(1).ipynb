{
  "metadata": {
    "language_info": {
      "codemirror_mode": {
        "name": "python",
        "version": 3
      },
      "file_extension": ".py",
      "mimetype": "text/x-python",
      "name": "python",
      "nbconvert_exporter": "python",
      "pygments_lexer": "ipython3",
      "version": "3.8"
    },
    "kernelspec": {
      "name": "python",
      "display_name": "Python (Pyodide)",
      "language": "python"
    }
  },
  "nbformat_minor": 4,
  "nbformat": 4,
  "cells": [
    {
      "cell_type": "code",
      "source": "import os \nfrom IPython.display import Image, display, clear_output\nimport piplite\nawait piplite.install('ipywidgets')\nimport ipywidgets as widgets\nfrom ipywidgets import Box, interact, Output\n\nphotos_folder = \"training_images\"\n    \nbutton0 = widgets.Button(description = '0 (Normal symmetrical movement)', disabled=False)\nbutton1 = widgets.Button(description = '1 (Minor paralysis)', disabled=False)\nbutton2 = widgets.Button(description = '2 (Partial paralysis)', disabled=False)\nbutton3 = widgets.Button(description = '3 (Complete paralysis of one or both sides)', disabled=False)\n\nitems = [button0, button1, button2, button3]\nbox = Box(children=items)\ndisplay(box)\noutput = widgets.Output()\ndisplay(output)\n\nphotos = os.listdir(photos_folder)\ndefault = -1\nphotos.append(default)\ni = iter(photos)\n\n\noutput_file = \"photo_labels.txt\"\n\ndef write_to_file(number):\n    path = next(i)\n    #print(path)\n    if path == default:\n        output.clear_output()\n        clear_output()\n        with output:\n            print(\"Please right click on \" + output_file + \" and download, then email to mcguffey.9@buckeyemail.osu.edu \\n Thank you very much!\")\n        return\n    labels = open(\"photo_labels.txt\", \"a\")\n    labels.write(path + \",\" + number + \"\\n\")\n    labels.close()\n    \n    output.clear_output()\n    show_image(path)\n\ndef show_image(path):\n    #print(path)\n    with output:\n        display(Image(filename=photos_folder + \"/\" + path))\n\ndef on_click0(b):\n    write_to_file(\"0\")\ndef on_click1(b):\n    write_to_file(\"1\")\ndef on_click2(b):\n    write_to_file(\"2\")\ndef on_click3(b):\n    write_to_file(\"3\")\n\nbutton0.on_click(on_click0)\nbutton1.on_click(on_click1)\nbutton2.on_click(on_click2)\nbutton3.on_click(on_click3)\n\n\n#print(\"Press Any button to begin, once images stop apperaing, please right click on \\\"photo_labels.txt\\\" and email to mcguffey.9@buckeyemail.osu.edu \\n Thank you!\")\nprint(\"Press any button to begin\")\n#show_image(current_image_path)\n\n",
      "metadata": {
        "trusted": true
      },
      "execution_count": 7,
      "outputs": [
        {
          "output_type": "display_data",
          "data": {
            "text/plain": "Box(children=(Button(description='0 (Normal symmetrical movement)', style=ButtonStyle()), Button(description='…",
            "application/vnd.jupyter.widget-view+json": {
              "version_major": 2,
              "version_minor": 0,
              "model_id": "d4c9a18595ea482c9c2d8dbca7c54478"
            }
          },
          "metadata": {}
        },
        {
          "output_type": "display_data",
          "data": {
            "text/plain": "Output()",
            "application/vnd.jupyter.widget-view+json": {
              "version_major": 2,
              "version_minor": 0,
              "model_id": "f99ce4deb5de459d83b3d365be4e303c"
            }
          },
          "metadata": {}
        },
        {
          "name": "stdout",
          "text": "Press any button to begin\n",
          "output_type": "stream"
        }
      ]
    },
    {
      "cell_type": "code",
      "source": "",
      "metadata": {
        "trusted": true
      },
      "execution_count": null,
      "outputs": []
    }
  ]
}